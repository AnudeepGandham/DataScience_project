{
 "cells": [
  {
   "cell_type": "markdown",
   "id": "9ac75651",
   "metadata": {},
   "source": [
    "# Title of the Notebook\n"
   ]
  },
  {
   "cell_type": "markdown",
   "id": "38d1c162",
   "metadata": {},
   "source": [
    "## Introduction\n",
    "\n",
    "This notebook explores various exercises, including markdown cell creation, code execution, and other fundamental notebook functionalities. The aim is to familiarize with basic operations in Jupyter notebooks.\n"
   ]
  },
  {
   "cell_type": "markdown",
   "id": "1b168d0d",
   "metadata": {},
   "source": [
    "## Data Science Languages\n",
    "\n",
    "Some of the popular programming languages used in data science are:\n",
    "\n",
    "- Python\n",
    "- R\n",
    "- SQL\n",
    "- Julia\n",
    "- Scala\n",
    "- Java\n",
    "- MATLAB\n"
   ]
  },
  {
   "cell_type": "markdown",
   "id": "d6885b04",
   "metadata": {},
   "source": [
    "## Data Science Libraries\n",
    "\n",
    "Some of the widely-used libraries in data science are:\n",
    "\n",
    "- Pandas\n",
    "- NumPy\n",
    "- Matplotlib\n",
    "- Scikit-learn\n",
    "- TensorFlow\n",
    "- Keras\n",
    "- PyTorch\n",
    "- Seaborn\n",
    "- SciPy\n",
    "- Statsmodels\n"
   ]
  },
  {
   "cell_type": "markdown",
   "id": "1f30d6a7",
   "metadata": {},
   "source": [
    "## Data Science Tools\n",
    "\n",
    "| Tool              | Description                              |\n",
    "|-------------------|------------------------------------------|\n",
    "| Jupyter Notebook  | An open-source tool for interactive computing and data visualization. |\n",
    "| RStudio           | An IDE for R that provides tools for data analysis and visualization. |\n",
    "| Apache Hadoop     | A framework for distributed storage and processing of large datasets. |\n",
    "| Apache Spark      | A unified analytics engine for large-scale data processing. |\n",
    "| Tableau           | A powerful data visualization tool.      |\n"
   ]
  },
  {
   "cell_type": "markdown",
   "id": "bc96ba03",
   "metadata": {},
   "source": [
    "## Arithmetic Expression Examples\n",
    "\n",
    "In this section, we will explore some basic arithmetic expressions involving addition, subtraction, multiplication, and division.\n"
   ]
  },
  {
   "cell_type": "code",
   "execution_count": 2,
   "id": "29ca3410",
   "metadata": {},
   "outputs": [
    {
     "data": {
      "text/plain": [
       "22"
      ]
     },
     "execution_count": 2,
     "metadata": {},
     "output_type": "execute_result"
    }
   ],
   "source": [
    "# Multiplying and adding numbers\n",
    "result = (5 * 3) + 7\n",
    "result\n",
    "\n"
   ]
  },
  {
   "cell_type": "code",
   "execution_count": 3,
   "id": "2ee1fb93",
   "metadata": {},
   "outputs": [
    {
     "data": {
      "text/plain": [
       "2.5"
      ]
     },
     "execution_count": 3,
     "metadata": {},
     "output_type": "execute_result"
    }
   ],
   "source": [
    "# Converting minutes to hours\n",
    "minutes = 150  # Example number of minutes\n",
    "hours = minutes / 60\n",
    "hours\n"
   ]
  },
  {
   "cell_type": "markdown",
   "id": "f3433574",
   "metadata": {},
   "source": [
    "## Objectives\n",
    "\n",
    "The objectives of this notebook are:\n",
    "\n",
    "- Understand basic markdown formatting in Jupyter.\n",
    "- Perform basic arithmetic operations in code cells.\n",
    "- Learn to convert time units (minutes to hours) using Python.\n",
    "- Explore commonly used data science tools, languages, and libraries.\n"
   ]
  },
  {
   "cell_type": "markdown",
   "id": "822513f2",
   "metadata": {},
   "source": [
    "## Author\n",
    "\n",
    "This notebook is authored by [AnudeepGandham].\n"
   ]
  },
  {
   "cell_type": "code",
   "execution_count": null,
   "id": "fc5bea2a",
   "metadata": {},
   "outputs": [],
   "source": []
  }
 ],
 "metadata": {
  "kernelspec": {
   "display_name": "Python 3 (ipykernel)",
   "language": "python",
   "name": "python3"
  },
  "language_info": {
   "codemirror_mode": {
    "name": "ipython",
    "version": 3
   },
   "file_extension": ".py",
   "mimetype": "text/x-python",
   "name": "python",
   "nbconvert_exporter": "python",
   "pygments_lexer": "ipython3",
   "version": "3.10.9"
  }
 },
 "nbformat": 4,
 "nbformat_minor": 5
}
